{
 "cells": [
  {
   "cell_type": "markdown",
   "metadata": {},
   "source": [
    "##### **Ejercicio 1** Hallar todas las soluciones de la ecuación diofántica 93x+87y=45."
   ]
  },
  {
   "cell_type": "code",
   "execution_count": 1,
   "metadata": {},
   "outputs": [
    {
     "data": {
      "text/plain": [
       "(3, -14, 15)"
      ]
     },
     "execution_count": 1,
     "metadata": {},
     "output_type": "execute_result"
    }
   ],
   "source": [
    "xgcd(93,87)"
   ]
  },
  {
   "cell_type": "markdown",
   "metadata": {},
   "source": [
    "d=(93,87)=3, m=-14, n=15\n",
    "\n",
    "X=-14·(45/3)=-14·15\n",
    "\n",
    "Y=15·(45/3)=15·15"
   ]
  },
  {
   "cell_type": "code",
   "execution_count": 2,
   "metadata": {},
   "outputs": [
    {
     "data": {
      "text/html": [
       "<html><script type=\"math/tex; mode=display\">\\newcommand{\\Bold}[1]{\\mathbf{#1}}-210</script></html>"
      ],
      "text/plain": [
       "-210"
      ]
     },
     "metadata": {},
     "output_type": "display_data"
    },
    {
     "data": {
      "text/html": [
       "<html><script type=\"math/tex; mode=display\">\\newcommand{\\Bold}[1]{\\mathbf{#1}}225</script></html>"
      ],
      "text/plain": [
       "225"
      ]
     },
     "metadata": {},
     "output_type": "display_data"
    }
   ],
   "source": [
    "X=-14*15\n",
    "Y=15*15\n",
    "show(X)\n",
    "show(Y)"
   ]
  },
  {
   "cell_type": "markdown",
   "metadata": {},
   "source": [
    "---"
   ]
  },
  {
   "cell_type": "markdown",
   "metadata": {},
   "source": [
    "##### **Ejercicio 2** Hallar todos los números c con 100<c<200, c múltiplo de 5, tales que la ecuación 21x+48y=c tenga solución y hallar todas las soluciones para estos valores."
   ]
  },
  {
   "cell_type": "code",
   "execution_count": 1,
   "metadata": {},
   "outputs": [
    {
     "data": {
      "text/plain": [
       "(3, 7, -3)"
      ]
     },
     "execution_count": 1,
     "metadata": {},
     "output_type": "execute_result"
    }
   ],
   "source": [
    "xgcd(21,48)"
   ]
  },
  {
   "cell_type": "code",
   "execution_count": 2,
   "metadata": {},
   "outputs": [
    {
     "data": {
      "text/plain": [
       "[105, 120, 135, 150, 165, 180, 195]"
      ]
     },
     "execution_count": 2,
     "metadata": {},
     "output_type": "execute_result"
    }
   ],
   "source": [
    "#Siempre el d=(21,48) debe dividir a c. Calculamos mcd(21,48) y sale 3.\n",
    "#Calculamos los números entre 101 y 200 que sean múltiplos de 5 (porque \n",
    "#lo exige el enunciado) y de 3 (porque mcd(21,48)=3).\n",
    "\n",
    "#Creamos una lista A que los contiene a todos ellos:\n",
    "A=[i for i in range(101,200) if i%15==0]\n",
    "A"
   ]
  },
  {
   "cell_type": "code",
   "execution_count": 4,
   "metadata": {},
   "outputs": [
    {
     "data": {
      "text/plain": [
       "[(105, -16*r + 245, 7*r - 105),\n",
       " (120, -16*r + 280, 7*r - 120),\n",
       " (135, -16*r + 315, 7*r - 135),\n",
       " (150, -16*r + 350, 7*r - 150),\n",
       " (165, -16*r + 385, 7*r - 165),\n",
       " (180, -16*r + 420, 7*r - 180),\n",
       " (195, -16*r + 455, 7*r - 195)]"
      ]
     },
     "execution_count": 4,
     "metadata": {},
     "output_type": "execute_result"
    }
   ],
   "source": [
    "#Esas son las posibles soluciones c del ejercicio. Las soluciones generales\n",
    "#que tendrán serán:\n",
    "        # x = 7*(c/3) - r*(48/3) = 7*(c/3) - 16r\n",
    "        # y = -3*(c/3) - r*(21/3) = -c - 7r\n",
    "var('r')\n",
    "[(a,7*a/3 - 16*r, -a + 7*r) for a in A]"
   ]
  },
  {
   "cell_type": "markdown",
   "metadata": {},
   "source": [
    "---"
   ]
  },
  {
   "cell_type": "markdown",
   "metadata": {},
   "source": [
    "##### **Ejercicio 3** Hallar todos los valores positivos b con b<100 tales que la ecuación diofántica 210x+by=13 tenga solución y hallar todas las soluciones para esos valores."
   ]
  },
  {
   "cell_type": "code",
   "execution_count": 5,
   "metadata": {
    "scrolled": false
   },
   "outputs": [
    {
     "data": {
      "text/plain": [
       "[(1, (1, 0, 1)),\n",
       " (11, (1, 1, -19)),\n",
       " (13, (1, -6, 97)),\n",
       " (17, (1, 3, -37)),\n",
       " (19, (1, 1, -11)),\n",
       " (23, (1, 8, -73)),\n",
       " (29, (1, -4, 29)),\n",
       " (31, (1, -9, 61)),\n",
       " (37, (1, 3, -17)),\n",
       " (41, (1, -8, 41)),\n",
       " (43, (1, 17, -83)),\n",
       " (47, (1, 15, -67)),\n",
       " (53, (1, 26, -103)),\n",
       " (59, (1, -25, 89)),\n",
       " (61, (1, -9, 31)),\n",
       " (67, (1, 15, -47)),\n",
       " (71, (1, -24, 71)),\n",
       " (73, (1, 8, -23)),\n",
       " (79, (1, 38, -101)),\n",
       " (83, (1, 17, -43)),\n",
       " (89, (1, -25, 59)),\n",
       " (97, (1, -6, 13))]"
      ]
     },
     "execution_count": 5,
     "metadata": {},
     "output_type": "execute_result"
    }
   ],
   "source": [
    "#Como c=13, es primo y d=(210,b) debe dividir a 13, entonces d=1 o d=13.\n",
    "#Pero d=13 no puede ser porque es el mcd(210,b) y 13 no divide a 210.\n",
    "B=[b for b in range(1,100) if gcd(210,b)==1]\n",
    "C=[(b,xgcd(210,b)) for b in B]\n",
    "C"
   ]
  },
  {
   "cell_type": "code",
   "execution_count": 6,
   "metadata": {
    "scrolled": false
   },
   "outputs": [
    {
     "data": {
      "text/plain": [
       "[(1, -r, 210*r + 13),\n",
       " (11, -11*r + 13, 210*r - 247),\n",
       " (13, -13*r - 78, 210*r + 1261),\n",
       " (17, -17*r + 39, 210*r - 481),\n",
       " (19, -19*r + 13, 210*r - 143),\n",
       " (23, -23*r + 104, 210*r - 949),\n",
       " (29, -29*r - 52, 210*r + 377),\n",
       " (31, -31*r - 117, 210*r + 793),\n",
       " (37, -37*r + 39, 210*r - 221),\n",
       " (41, -41*r - 104, 210*r + 533),\n",
       " (43, -43*r + 221, 210*r - 1079),\n",
       " (47, -47*r + 195, 210*r - 871),\n",
       " (53, -53*r + 338, 210*r - 1339),\n",
       " (59, -59*r - 325, 210*r + 1157),\n",
       " (61, -61*r - 117, 210*r + 403),\n",
       " (67, -67*r + 195, 210*r - 611),\n",
       " (71, -71*r - 312, 210*r + 923),\n",
       " (73, -73*r + 104, 210*r - 299),\n",
       " (79, -79*r + 494, 210*r - 1313),\n",
       " (83, -83*r + 221, 210*r - 559),\n",
       " (89, -89*r - 325, 210*r + 767),\n",
       " (97, -97*r - 78, 210*r + 169)]"
      ]
     },
     "execution_count": 6,
     "metadata": {},
     "output_type": "execute_result"
    }
   ],
   "source": [
    "#Calculamos las soluciones generales (c=13, a=210, d=1):\n",
    "    # x = m*13/1 - r*b/1 = m*13 - r*b\n",
    "        # teniendo en cuenta que la m es una componente de C[i].\n",
    "    # y = n*13/1 + r*210/1 = n*13 + 210*r\n",
    "        # teniendo en cuenta que la n es una componente de C[1].\n",
    "var('r')\n",
    "[(C[i][0],13*C[i][1][1] - r*C[i][0], 13*C[i][1][2] + r*210) for i in [0..21]]"
   ]
  },
  {
   "cell_type": "markdown",
   "metadata": {},
   "source": [
    "---"
   ]
  },
  {
   "cell_type": "markdown",
   "metadata": {},
   "source": [
    "##### **Ejercicio 4** Hallar las unidades de Z/44Z y de Z/84Z y los inversos multiplicativos de cada una de ellas."
   ]
  },
  {
   "cell_type": "code",
   "execution_count": 23,
   "metadata": {},
   "outputs": [
    {
     "name": "stdout",
     "output_type": "stream",
     "text": [
      "A = [1, 3, 5, 7, 9, 13, 15, 17, 19, 21, 23, 25, 27, 29, 31, 35, 37, 39, 41, 43]\n",
      "INVERSOS A = [(1, 1), (3, 15), (5, 9), (7, 19), (9, 5), (13, 17), (15, 3), (17, 13), (19, 7), (21, 21), (23, 23), (25, 37), (27, 31), (29, 41), (31, 27), (35, 39), (37, 25), (39, 35), (41, 29), (43, 43)]\n"
     ]
    }
   ],
   "source": [
    "#Unidades de Z/44Z:\n",
    "A=[i for i in range(1,44) if gcd(i,44)==1]\n",
    "print(\"A =\", A)\n",
    "#Inversos multiplicativos:\n",
    "print(\"INVERSOS A =\", [(i, lift(mod(i,44)^(-1))) for i in A])"
   ]
  },
  {
   "cell_type": "code",
   "execution_count": 24,
   "metadata": {
    "scrolled": false
   },
   "outputs": [
    {
     "name": "stdout",
     "output_type": "stream",
     "text": [
      "B = [1, 5, 11, 13, 17, 19, 23, 25, 29, 31, 37, 41, 43, 47, 53, 55, 59, 61, 65, 67, 71, 73, 79, 83]\n",
      "INVERSOS B = [(1, 1), (5, 17), (11, 23), (13, 13), (17, 5), (19, 31), (23, 11), (25, 37), (29, 29), (31, 19), (37, 25), (41, 41), (43, 43), (47, 59), (53, 65), (55, 55), (59, 47), (61, 73), (65, 53), (67, 79), (71, 71), (73, 61), (79, 67), (83, 83)]\n"
     ]
    }
   ],
   "source": [
    "#Unidades de Z/84Z:\n",
    "B=[j for j in range(1,84) if gcd(j,84)==1]\n",
    "print(\"B =\", B)\n",
    "#Inversos multiplicativos:\n",
    "print(\"INVERSOS B =\", [(j, lift(mod(j,84)^(-1))) for j in B])"
   ]
  },
  {
   "cell_type": "markdown",
   "metadata": {},
   "source": [
    "---"
   ]
  },
  {
   "cell_type": "markdown",
   "metadata": {},
   "source": [
    "##### **Ejercicio 5** Hacer el ejercicio 4 utilizando el teorema de Bèzout en lugar de la función mod anterior."
   ]
  },
  {
   "cell_type": "code",
   "execution_count": 27,
   "metadata": {},
   "outputs": [
    {
     "data": {
      "text/plain": [
       "[(1, (1, 1, 0)),\n",
       " (3, (1, 15, -1)),\n",
       " (5, (1, 9, -1)),\n",
       " (7, (1, 19, -3)),\n",
       " (9, (1, 5, -1)),\n",
       " (13, (1, 17, -5)),\n",
       " (15, (1, 3, -1)),\n",
       " (17, (1, 13, -5)),\n",
       " (19, (1, 7, -3)),\n",
       " (21, (1, 21, -10)),\n",
       " (23, (1, -21, 11)),\n",
       " (25, (1, -7, 4)),\n",
       " (27, (1, -13, 8)),\n",
       " (29, (1, -3, 2)),\n",
       " (31, (1, -17, 12)),\n",
       " (35, (1, -5, 4)),\n",
       " (37, (1, -19, 16)),\n",
       " (39, (1, -9, 8)),\n",
       " (41, (1, -15, 14)),\n",
       " (43, (1, -1, 1))]"
      ]
     },
     "execution_count": 27,
     "metadata": {},
     "output_type": "execute_result"
    }
   ],
   "source": [
    "[(i,xgcd(i,44)) for i in A]"
   ]
  },
  {
   "cell_type": "code",
   "execution_count": 28,
   "metadata": {},
   "outputs": [
    {
     "data": {
      "text/plain": [
       "[(1, (1, 1, 0)),\n",
       " (5, (1, 17, -1)),\n",
       " (11, (1, 23, -3)),\n",
       " (13, (1, 13, -2)),\n",
       " (17, (1, 5, -1)),\n",
       " (19, (1, 31, -7)),\n",
       " (23, (1, 11, -3)),\n",
       " (25, (1, 37, -11)),\n",
       " (29, (1, 29, -10)),\n",
       " (31, (1, 19, -7)),\n",
       " (37, (1, 25, -11)),\n",
       " (41, (1, 41, -20)),\n",
       " (43, (1, -41, 21)),\n",
       " (47, (1, -25, 14)),\n",
       " (53, (1, -19, 12)),\n",
       " (55, (1, -29, 19)),\n",
       " (59, (1, -37, 26)),\n",
       " (61, (1, -11, 8)),\n",
       " (65, (1, -31, 24)),\n",
       " (67, (1, -5, 4)),\n",
       " (71, (1, -13, 11)),\n",
       " (73, (1, -23, 20)),\n",
       " (79, (1, -17, 16)),\n",
       " (83, (1, -1, 1))]"
      ]
     },
     "execution_count": 28,
     "metadata": {},
     "output_type": "execute_result"
    }
   ],
   "source": [
    "[(j,xgcd(j,84)) for j in B]"
   ]
  },
  {
   "cell_type": "markdown",
   "metadata": {},
   "source": [
    "---"
   ]
  },
  {
   "cell_type": "markdown",
   "metadata": {},
   "source": [
    "##### **Ejercicio 6** Hallar el menor número natural congruente a 3 módulo 8, a 7 módulo 15 y a 9 módulo 83."
   ]
  },
  {
   "cell_type": "code",
   "execution_count": 29,
   "metadata": {},
   "outputs": [
    {
     "data": {
      "text/plain": [
       "7147"
      ]
     },
     "execution_count": 29,
     "metadata": {},
     "output_type": "execute_result"
    }
   ],
   "source": [
    "CRT_list([3,7,9],[8,15,83])"
   ]
  },
  {
   "cell_type": "markdown",
   "metadata": {},
   "source": [
    "---"
   ]
  },
  {
   "cell_type": "markdown",
   "metadata": {},
   "source": [
    "##### **Ejercicio 7** ¿Puede existir un número que sea congruente a 3 módulo 14, a 5 módulo 33, a 7 módulo 65 y a 31 módulo 187?"
   ]
  },
  {
   "cell_type": "code",
   "execution_count": null,
   "metadata": {},
   "outputs": [],
   "source": [
    "CRT_list([3,5,7,31],[14,33,65,187])"
   ]
  },
  {
   "cell_type": "code",
   "execution_count": 31,
   "metadata": {},
   "outputs": [
    {
     "data": {
      "text/plain": [
       "11 * 17"
      ]
     },
     "execution_count": 31,
     "metadata": {},
     "output_type": "execute_result"
    }
   ],
   "source": [
    "#Al ejecutar la línea anterior, vemos que da error porque no existe\n",
    "#ningún número que cumpla los requisitos del ejercicio.\n",
    "factor(187)"
   ]
  },
  {
   "cell_type": "code",
   "execution_count": 32,
   "metadata": {},
   "outputs": [],
   "source": [
    "#El número sería congruente a 5 módulo 33, luego a 5 módulo 11.\n",
    "#Sería congruente a 31 módulo 1878, es decir, a 9 módulo 11.\n",
    "#Eso es imposible, por lo que tenemos una contradicción. La \n",
    "#factorización de 187 es 187 congruente con 11*17."
   ]
  },
  {
   "cell_type": "markdown",
   "metadata": {},
   "source": [
    "---"
   ]
  },
  {
   "cell_type": "markdown",
   "metadata": {},
   "source": [
    "##### **Ejercicio 8** Hallar el menor número natural n tal que 8n sea congruente a 7 módulo 1913,25n sea congruente a 11 módulo 1916 y 30n sea congruente a 13 módulo 1927."
   ]
  },
  {
   "cell_type": "code",
   "execution_count": 34,
   "metadata": {},
   "outputs": [
    {
     "data": {
      "text/plain": [
       "11718"
      ]
     },
     "execution_count": 34,
     "metadata": {},
     "output_type": "execute_result"
    }
   ],
   "source": [
    "lift(mod(8,1913)^(-1))*7"
   ]
  },
  {
   "cell_type": "code",
   "execution_count": 36,
   "metadata": {},
   "outputs": [
    {
     "data": {
      "text/plain": [
       "11803"
      ]
     },
     "execution_count": 36,
     "metadata": {},
     "output_type": "execute_result"
    }
   ],
   "source": [
    "lift(mod(25,1916)^(-1))*11"
   ]
  },
  {
   "cell_type": "code",
   "execution_count": 35,
   "metadata": {},
   "outputs": [
    {
     "data": {
      "text/plain": [
       "14196"
      ]
     },
     "execution_count": 35,
     "metadata": {},
     "output_type": "execute_result"
    }
   ],
   "source": [
    "lift(mod(30,1927)^(-1))*13"
   ]
  },
  {
   "cell_type": "markdown",
   "metadata": {},
   "source": [
    "---"
   ]
  },
  {
   "cell_type": "markdown",
   "metadata": {},
   "source": [
    "##### **Ejercicio 9** Encontrar el menor número natural que sea congruente a 1 módulo 8, a 2 módulo 21,a 3 módulo 25 y a 9 módulo 308. (Observar que 308 no es primo ni con 8 ni con 21, por lo que no podemos aplicar CRT_list)."
   ]
  },
  {
   "cell_type": "code",
   "execution_count": 38,
   "metadata": {},
   "outputs": [
    {
     "data": {
      "text/plain": [
       "2753"
      ]
     },
     "execution_count": 38,
     "metadata": {},
     "output_type": "execute_result"
    }
   ],
   "source": [
    "CRT_list([1,2,3],[8,21,25])"
   ]
  },
  {
   "cell_type": "code",
   "execution_count": 39,
   "metadata": {},
   "outputs": [
    {
     "data": {
      "text/plain": [
       "4200"
      ]
     },
     "execution_count": 39,
     "metadata": {},
     "output_type": "execute_result"
    }
   ],
   "source": [
    "#La solución general de las tres primeras congruencias es 2753. \n",
    "#Impongamos que un número de esta forma sea la solución de la cuarta \n",
    "#congruencia.\n",
    "8*21*25"
   ]
  },
  {
   "cell_type": "code",
   "execution_count": 40,
   "metadata": {},
   "outputs": [
    {
     "data": {
      "text/plain": [
       "[8, 19]"
      ]
     },
     "execution_count": 40,
     "metadata": {},
     "output_type": "execute_result"
    }
   ],
   "source": [
    "[k for k in range(1,20) if (2753+4200*k)%308==9]"
   ]
  },
  {
   "cell_type": "code",
   "execution_count": 41,
   "metadata": {},
   "outputs": [
    {
     "data": {
      "text/plain": [
       "36353"
      ]
     },
     "execution_count": 41,
     "metadata": {},
     "output_type": "execute_result"
    }
   ],
   "source": [
    "#Sustituyo la k obtenida en la ecuación 2753+4200*k:\n",
    "2753 + 4200*8"
   ]
  },
  {
   "cell_type": "code",
   "execution_count": 42,
   "metadata": {},
   "outputs": [
    {
     "data": {
      "text/plain": [
       "[1, 2, 3, 9]"
      ]
     },
     "execution_count": 42,
     "metadata": {},
     "output_type": "execute_result"
    }
   ],
   "source": [
    "#Comprobamos el resultado obtenido:\n",
    "[36353%i for i in [8,21,25,308]]"
   ]
  }
 ],
 "metadata": {
  "kernelspec": {
   "display_name": "SageMath 9.1",
   "language": "sage",
   "name": "sagemath"
  },
  "language_info": {
   "codemirror_mode": {
    "name": "ipython",
    "version": 3
   },
   "file_extension": ".py",
   "mimetype": "text/x-python",
   "name": "python",
   "nbconvert_exporter": "python",
   "pygments_lexer": "ipython3",
   "version": "3.7.3"
  }
 },
 "nbformat": 4,
 "nbformat_minor": 2
}
