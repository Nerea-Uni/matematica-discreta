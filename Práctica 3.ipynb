{
 "cells": [
  {
   "cell_type": "markdown",
   "metadata": {},
   "source": [
    "##### **Ejercicio 1**  Probar que 35784667 no es primo usando el test de primalidad de Fermat. (Prueba con el 2 y 3)"
   ]
  },
  {
   "cell_type": "code",
   "execution_count": null,
   "metadata": {},
   "outputs": [],
   "source": [
    "(2^35784666)%35784667"
   ]
  },
  {
   "cell_type": "code",
   "execution_count": null,
   "metadata": {},
   "outputs": [],
   "source": [
    "mod(5^35784666,35784667)"
   ]
  },
  {
   "cell_type": "code",
   "execution_count": null,
   "metadata": {},
   "outputs": [],
   "source": [
    "n=35784667\n",
    "(2^(n-1))%n"
   ]
  },
  {
   "cell_type": "code",
   "execution_count": null,
   "metadata": {},
   "outputs": [],
   "source": [
    "i=1             #Establecemos una variable 'i' que igualamos a 1.\n",
    "prim=True       #También declaramos una variable booleana que es TRUE cuando\n",
    "                #el número n es primo y FALSE cuando no.\n",
    "#Ahora declaramos un bucle que comprueba si los números del 1 al n son\n",
    "#divisores de n. Si hay alguno que lo es, la variable prim pasará a ser FALSE,\n",
    "#ya que n tendrá más divisores que él mismo y uno y, por lo tanto, dejará de\n",
    "#ser primo.\n",
    "for i in [1,n]:\n",
    "        if(lift(mod(i,n)^(n-1))!=1):\n",
    "            prim = False\n",
    "        i = i+1\n",
    "show(prim)"
   ]
  },
  {
   "cell_type": "markdown",
   "metadata": {},
   "source": [
    "---"
   ]
  },
  {
   "cell_type": "markdown",
   "metadata": {},
   "source": [
    "##### **Ejercicio 2** Probar que 561 es un número de Carmichael."
   ]
  },
  {
   "cell_type": "code",
   "execution_count": null,
   "metadata": {},
   "outputs": [],
   "source": [
    "#Para emprezar comprobamos que el número no es primo factorizándolo:\n",
    "num=561\n",
    "numfact=factor(num)\n",
    "numfact"
   ]
  },
  {
   "cell_type": "code",
   "execution_count": null,
   "metadata": {},
   "outputs": [],
   "source": [
    "#Sin embargo, para todo a<561 y primo con 761, sale que a^560 es congruente\n",
    "#con 1 (mod 561) pedimos que nos devuelva un 0<i<561, que sea primo con 561\n",
    "#y que i^560 no sea congruente con 1.\n",
    "\n",
    "i=1             #Indicamos que el primer elemento que vamos a analizar es el 1.\n",
    "car=True        #Declaramos una variable booleana que es TRUE cuando una \n",
    "                #congruencia se cumple.\n",
    "\n",
    "#Declaramos un bucle para comprobar si los números de 1 hasta el número en\n",
    "#cuestión (561 en nuestro caso) son coprimos y cumplen con la congruencia \n",
    "#requerida. Si no la cumplen, la variable 'car' pasará a ser False y mostrará\n",
    "#un mensaje en pantalla indicando que ha habido algún elemento que no es \n",
    "#congruente, haciendo que el número no sea de Carmichael.\n",
    "\n",
    "while i<(num+1):\n",
    "    if gcd(num,i)==1:\n",
    "        if mod(i,num)^(num-1) != 1:\n",
    "            car=False\n",
    "    i=i+1\n",
    "if car==True:\n",
    "    show(\"El número \", num, \" es un número de Carmichael porque todas las congruencias se han cumplido.\")\n",
    "else:\n",
    "    show(\"El número \", num, \" no es un número de Carmichael porque no todas las congruencias se han cumplido.\")"
   ]
  },
  {
   "cell_type": "markdown",
   "metadata": {},
   "source": [
    "---"
   ]
  },
  {
   "cell_type": "markdown",
   "metadata": {},
   "source": [
    "##### **Ejercicio 3** Hallar todos los números de Carmichael entre 2400 y 2900."
   ]
  },
  {
   "cell_type": "code",
   "execution_count": null,
   "metadata": {},
   "outputs": [],
   "source": [
    "#Sin embargo, para todo a<561 y primo con 761, sale que a^560 es congruente\n",
    "#Para obtener la solución del ejercicio, comprobamos que los números de 1 a j\n",
    "#cumplen el Pequeño Teorema de Fermat. Los números que cumplan esta condición\n",
    "#quedan guardados en la lista A.\n",
    "\n",
    "#Así, sabemos que los números de Carmichael comprendidos entre 2400 y 2900 son\n",
    "#aquellos que sean coprimos con los recogidos en la lista A.\n",
    "A=[[[i for i in range(1,j) if gcd(1,j)==1 if (i^(j+1))%j != 1], j] for j in range(2400,2900)]\n",
    "[a[1] for a in A if a[0]==[] if not is_prime(a[1])]"
   ]
  },
  {
   "cell_type": "markdown",
   "metadata": {},
   "source": [
    "---"
   ]
  },
  {
   "cell_type": "markdown",
   "metadata": {},
   "source": [
    "##### **Ejercicio 4** Comprobar el Teorema de Euler para n=180 (Recordar que la función de Euler se escribe euler_phi())"
   ]
  },
  {
   "cell_type": "code",
   "execution_count": 3,
   "metadata": {},
   "outputs": [
    {
     "data": {
      "text/plain": [
       "48"
      ]
     },
     "execution_count": 3,
     "metadata": {},
     "output_type": "execute_result"
    }
   ],
   "source": [
    "#Sin embargo, para todo a<561 y primo con 761, sale que a^560 es congruente\n",
    "#El número de enteros positivos menores o iguales que 180 y primos con 180 es:\n",
    "epn = euler_phi(180)\n",
    "epn"
   ]
  },
  {
   "cell_type": "code",
   "execution_count": 6,
   "metadata": {},
   "outputs": [
    {
     "name": "stdout",
     "output_type": "stream",
     "text": [
      "[1, 7, 11, 13, 17, 19, 23, 29, 31, 37, 41, 43, 47, 49, 53, 59, 61, 67, 71, 73, 77, 79, 83, 89, 91, 97, 101, 103, 107, 109, 113, 119, 121, 127, 131, 133, 137, 139, 143, 149, 151, 157, 161, 163, 167, 169, 173, 179]\n"
     ]
    }
   ],
   "source": [
    "#Para cada i primo con 180, se cumple que i^48:\n",
    "print([i for i in range(1,180) if gcd(i,180)==1 if (i^epn)])"
   ]
  },
  {
   "cell_type": "code",
   "execution_count": 7,
   "metadata": {},
   "outputs": [],
   "source": [
    "#En esta última instrucción se muestran los 48 números enteros positivos\n",
    "#menores o iguales que 180 y primos con 180. "
   ]
  },
  {
   "cell_type": "markdown",
   "metadata": {},
   "source": [
    "---"
   ]
  },
  {
   "cell_type": "markdown",
   "metadata": {},
   "source": [
    "##### **Ejercicio 5** Tomando dos números primos de más de 20 cifras, encripta y desencripta un número r mayor que n y observa lo que pasa."
   ]
  },
  {
   "cell_type": "code",
   "execution_count": 8,
   "metadata": {},
   "outputs": [
    {
     "name": "stdout",
     "output_type": "stream",
     "text": [
      "p = 100000087654323432223\n",
      "q = 100000087654345653259\n",
      "n = 10000017530874591830564130634629945564757\n",
      "epn = 10000017530874591830364130459321276479276\n"
     ]
    }
   ],
   "source": [
    "p=next_prime(10^20+87654323432176)\n",
    "q=next_prime(10^20+87654345653245)\n",
    "n=p*q\n",
    "print(\"p =\", p)\n",
    "print(\"q =\", q)\n",
    "print(\"n =\", n)\n",
    "\n",
    "epn=euler_phi(n)\n",
    "print(\"epn =\", epn)"
   ]
  },
  {
   "cell_type": "code",
   "execution_count": 9,
   "metadata": {},
   "outputs": [
    {
     "name": "stdout",
     "output_type": "stream",
     "text": [
      "e = 5\n",
      "r = 10000017530874591830564130634629945573702\n",
      "c = 57266642897524840625\n",
      "d = 8000014024699673464291304367457021183421\n"
     ]
    }
   ],
   "source": [
    "#Observamos que (5,epn)=1, por lo que nuestro e será 5.\n",
    "e=5\n",
    "print(\"e =\", e)\n",
    "\n",
    "#Por tanto, (n,e)=(10000017530874591830564130634629945564757,5) será\n",
    "#la clave pública.\n",
    "#Escojo un r mayor que n y calculamos el número encriptado (c=r^e mod n)\n",
    "r=n+8945\n",
    "print(\"r =\", r)\n",
    "#Calculamos el número encriptado:\n",
    "c=lift(mod(r,n)^e)\n",
    "print(\"c =\", c)\n",
    "#Concretamos un d que sea primo con e, (d,e)=1:\n",
    "d=lift(mod(e,epn)^(-1))\n",
    "print(\"d =\", d)"
   ]
  },
  {
   "cell_type": "code",
   "execution_count": 10,
   "metadata": {},
   "outputs": [
    {
     "data": {
      "text/plain": [
       "8945"
      ]
     },
     "execution_count": 10,
     "metadata": {},
     "output_type": "execute_result"
    }
   ],
   "source": [
    "#Ahora vamos a desencriptar el número c:\n",
    "r1=lift(mod(c,n)^d)\n",
    "r1\n",
    "#Al ser un número mayor que n y tener que hacer módulo n, el resultado\n",
    "#que devuelve es el número que sumamos a n, en este caso 8945."
   ]
  },
  {
   "cell_type": "markdown",
   "metadata": {},
   "source": [
    "---"
   ]
  },
  {
   "cell_type": "markdown",
   "metadata": {},
   "source": [
    "##### **Ejercicio 6** Sea p=next_prime(12345678987654321) y q=next_prime(135798642). Encripta y desencripta el número 1111111111."
   ]
  },
  {
   "cell_type": "code",
   "execution_count": 14,
   "metadata": {},
   "outputs": [
    {
     "name": "stdout",
     "output_type": "stream",
     "text": [
      "p = 12345678987654373\n",
      "q = 135798653\n",
      "n = 1676526576893867482959569\n",
      "epn = 1676526564548188359506544\n"
     ]
    }
   ],
   "source": [
    "#con 284.A continuación, le sumamos o restamos el valor 'a' obtenido\n",
    "p=next_prime(12345678987654321)\n",
    "q=next_prime(135798642)\n",
    "n=p*q\n",
    "\n",
    "print(\"p =\", p)\n",
    "print(\"q =\", q)\n",
    "print(\"n =\", n)\n",
    "\n",
    "epn=euler_phi(n)\n",
    "print(\"epn =\", epn)"
   ]
  },
  {
   "cell_type": "code",
   "execution_count": 15,
   "metadata": {},
   "outputs": [
    {
     "name": "stdout",
     "output_type": "stream",
     "text": [
      "e = 5\n",
      "r = 1111111111\n",
      "c = 1162555077044283175845258\n",
      "d = 335305312909637671901309\n"
     ]
    }
   ],
   "source": [
    "#Establecemos un e que cumpla (e,epn)=1.\n",
    "e=5\n",
    "print(\"e =\", e)\n",
    "\n",
    "#Mensaje a encriptar.\n",
    "r=1111111111\n",
    "print(\"r =\", r)\n",
    "\n",
    "#Calculamos el mensaje codificado:\n",
    "c=lift(mod(r^e,n))\n",
    "print(\"c =\", c)\n",
    "\n",
    "#Concretamos un d que sea primo con e, (d,e)=1:\n",
    "d=lift(mod(e,epn)^(-1))\n",
    "print(\"d =\", d)"
   ]
  },
  {
   "cell_type": "code",
   "execution_count": 16,
   "metadata": {},
   "outputs": [
    {
     "data": {
      "text/plain": [
       "1111111111"
      ]
     },
     "execution_count": 16,
     "metadata": {},
     "output_type": "execute_result"
    }
   ],
   "source": [
    "#Mensaje descodificado:\n",
    "r2=lift(mod(c,n)^d)\n",
    "r2"
   ]
  },
  {
   "cell_type": "markdown",
   "metadata": {},
   "source": [
    "---"
   ]
  },
  {
   "cell_type": "markdown",
   "metadata": {},
   "source": [
    "##### **Ejercicio 7.** Sabiendo que el número 15307118503742269 es producto de dos números primos relativamente próximos, halla éstos utilizando la observación anterior."
   ]
  },
  {
   "cell_type": "code",
   "execution_count": 19,
   "metadata": {},
   "outputs": [
    {
     "name": "stdout",
     "output_type": "stream",
     "text": [
      "m = 123721941\n"
     ]
    },
    {
     "data": {
      "text/plain": [
       "[284]"
      ]
     },
     "execution_count": 19,
     "metadata": {},
     "output_type": "execute_result"
    }
   ],
   "source": [
    "n=15307118503742269\n",
    "#Vamos a tomar la parte entera de la raíz cuadrada.\n",
    "m=ceil(sqrt(n))\n",
    "print(\"m =\",m)\n",
    "[i for i in range(1,1000) if is_square((m+i)^2-n)]"
   ]
  },
  {
   "cell_type": "code",
   "execution_count": 22,
   "metadata": {},
   "outputs": [
    {
     "name": "stdout",
     "output_type": "stream",
     "text": [
      "a = 265434\n",
      "p = 123987659\n",
      "q = 123456791\n",
      "n==p*q -> True\n"
     ]
    }
   ],
   "source": [
    "#Calculamos el a como la raíz cuadrada del (m+i)^2-n\n",
    "a = sqrt((m+284)^2-n)\n",
    "print(\"a =\", a)\n",
    "\n",
    "#Calculamos p y q. Para ello sumamos la parte entera de la raíz de n\n",
    "#con 284.A continuación, le sumamos o restamos el valor 'a' obtenido\n",
    "#en el paso anterior.\n",
    "p=m+284+a\n",
    "q=m+284-a\n",
    "print(\"p =\", p)\n",
    "print(\"q =\", q)\n",
    "\n",
    "#Comprobamos que n sea igual a p*q.\n",
    "print(\"n==p*q ->\", n==p*q)\n",
    "\n",
    "#El número e es, en principio, primo con euler_phi(n) pero también tiene\n",
    "#que ser suficientemente grande para que r^e sea mayor que n pues, de no\n",
    "#serlo, r^e coincide con r^e."
   ]
  },
  {
   "cell_type": "markdown",
   "metadata": {},
   "source": [
    "---"
   ]
  },
  {
   "cell_type": "markdown",
   "metadata": {},
   "source": [
    "##### **Ejercicio 8.** Supongamos que hemos encriptado con la clave pública (45803002639,11).¿Podríamos desencriptar el mensaje 1977326743 sin conocer la clave privada?"
   ]
  },
  {
   "cell_type": "code",
   "execution_count": 11,
   "metadata": {},
   "outputs": [
    {
     "name": "stdout",
     "output_type": "stream",
     "text": [
      "c = 1977326743\n",
      "e = 11\n",
      "n = 45803002639\n",
      "r = 7\n"
     ]
    }
   ],
   "source": [
    "c=1977326743\n",
    "e=11\n",
    "n=45803002639\n",
    "print(\"c =\",c)\n",
    "print(\"e =\",e)\n",
    "print(\"n =\",n)\n",
    "\n",
    "#Si e no es lo suficientemente grande ara que r^e sea mayor que n, c=r^e mod n\n",
    "#coincide con r^e.\n",
    "r = (c)^(1/e)\n",
    "print(\"r =\",r)"
   ]
  },
  {
   "cell_type": "code",
   "execution_count": 12,
   "metadata": {},
   "outputs": [],
   "source": [
    "#Cuando encriptamos el número 7, debemos hacer 7^11, y el resultado \n",
    "#es 1977326743. Como este número es menor que n, tenemos que \n",
    "#c=1977326743 mod n es el mismo número, 1977326743. Después, al desencriptar\n",
    "#c debería salir 7."
   ]
  }
 ],
 "metadata": {
  "kernelspec": {
   "display_name": "SageMath 9.1",
   "language": "sage",
   "name": "sagemath"
  },
  "language_info": {
   "codemirror_mode": {
    "name": "ipython",
    "version": 3
   },
   "file_extension": ".py",
   "mimetype": "text/x-python",
   "name": "python",
   "nbconvert_exporter": "python",
   "pygments_lexer": "ipython3",
   "version": "3.7.3"
  }
 },
 "nbformat": 4,
 "nbformat_minor": 2
}
