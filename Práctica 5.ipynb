{
 "cells": [
  {
   "cell_type": "markdown",
   "metadata": {},
   "source": [
    "**Ejercicio 1.** Supongamos  que  en  un año se  publican en España 2500 libros. ¿Cuántas  posibles listas  de los  10  más  vendidos  puede haber?"
   ]
  },
  {
   "cell_type": "code",
   "execution_count": 2,
   "metadata": {},
   "outputs": [
    {
     "name": "stdout",
     "output_type": "stream",
     "text": [
      "sol1 = 9366403549356783621526727692800000\n",
      "Puede haber  9366403549356783621526727692800000  listas de los 10 libros más vendidos del año.\n"
     ]
    }
   ],
   "source": [
    "n = 2500         #Número de elementos del conjunto en el que trabajamos.\n",
    "k = 10           #Número de elementos que elegimos del conjunto de n elementos\n",
    "\n",
    "#Importa el orden y no se permiten repeticiones, es decir, permutación sin repetición.\n",
    "#PR(n,k) = n!/(n-k)! = binomial(n,k)*factorial(k)\n",
    "\n",
    "sol1 = binomial(n,k)*factorial(k)\n",
    "print(\"sol1 =\",sol1)\n",
    "print(\"Puede haber \",sol1,\" listas de los 10 libros más vendidos del año.\")"
   ]
  },
  {
   "cell_type": "markdown",
   "metadata": {},
   "source": [
    "**Ejercicio 2.** ¿Cuántas matrices 8x8 tienen en cada fila 2 unos y 6 ceros?"
   ]
  },
  {
   "cell_type": "code",
   "execution_count": 3,
   "metadata": {},
   "outputs": [
    {
     "name": "stdout",
     "output_type": "stream",
     "text": [
      "sol2 = 377801998336\n",
      "Hay  377801998336  matrices 8x8 que tienen en cada fila 2 unos y 6 ceros.\n"
     ]
    }
   ],
   "source": [
    "n=8\n",
    "k=2\n",
    "\n",
    "#C(n,k)=binomial(n,k)\n",
    "fila = binomial(n,k)\n",
    "sol2 = fila^8\n",
    "print(\"sol2 =\",sol2)\n",
    "print(\"Hay \",sol2,\" matrices 8x8 que tienen en cada fila 2 unos y 6 ceros.\")"
   ]
  },
  {
   "cell_type": "markdown",
   "metadata": {},
   "source": [
    "**Ejercicio 3.** ¿Cuántas  palabras  diferentes  pueden formarse  con las  letras de  ZARAGOZA?"
   ]
  },
  {
   "cell_type": "code",
   "execution_count": 2,
   "metadata": {},
   "outputs": [
    {
     "name": "stdout",
     "output_type": "stream",
     "text": [
      "sol3 = 3360\n",
      "Se pueden formar 3360 palabras diferentes con las letras de ZARAGOZA\n"
     ]
    }
   ],
   "source": [
    "#Zaragoza está compuesta por 3A, 2Z, 1R, 1G y 1O.\n",
    "\n",
    "#Si todas las letras fueran diferentes, la forma de crear palabras con 8 letras \n",
    "#distintas son las distintas formas de reordenar los 8 elementos. Pero como hay \n",
    "#3A, la reorganización de esas 3A, dan el mismo casi, luego hay que dividir para\n",
    "#esos casos. Y lo mismo para las 2Z, la 1R, 2G y 1O.\n",
    "\n",
    "n=8        #Son 8 letras que componen ZARAGOZA.\n",
    "\n",
    "A=binomial(n,3)         #Calculamos el número de formas de ordenar 3A sobre n letras.\n",
    "Z=binomial(n-3,2)       #Nº de formas de ordenar 2Z sobre (n-nºdeA) => n-3.\n",
    "d=factorial(3)          #Forma de ordenar las últimas 3 letras (R,G,O) en 3 huecos.\n",
    "\n",
    "#La solución es la forma de ordenas las A por la forma de ordenar las Z por la \n",
    "#forma de ordenar las demás:\n",
    "sol3=A*Z*d\n",
    "print(\"sol3 =\", sol3)\n",
    "print(\"Se pueden formar\",sol3,\"palabras diferentes con las letras de ZARAGOZA\")"
   ]
  },
  {
   "cell_type": "markdown",
   "metadata": {},
   "source": [
    "**Ejercicio 4.** Disponemos de 20 pelotas idénticas. ¿De cuántas maneras diferentes podemos repartirlas entre 4 niños?"
   ]
  },
  {
   "cell_type": "code",
   "execution_count": 5,
   "metadata": {},
   "outputs": [
    {
     "name": "stdout",
     "output_type": "stream",
     "text": [
      "sol4 = 1771\n",
      "Existen 1771 maneras diferentes de repartir 20 pelotas entre 4 niños.\n"
     ]
    }
   ],
   "source": [
    "n=4        #Nº de niños entre los que repartir las bolas.\n",
    "k=20       #Nº de bolas a repartir.\n",
    "#Estamos frente a una combinación de n elementos con repetición. En este caso no\n",
    "#importa el orden en el que se toman los datos, pero sí que importa la repetición\n",
    "#de estos. Por esto, la solución es una binomial de n+k-1 sobre k.\n",
    "sol4=binomial(n+k-1,k)\n",
    "print(\"sol4 =\",sol4)\n",
    "print(\"Existen\",sol4,\"maneras diferentes de repartir\",k,\"pelotas entre\",n,\"niños.\")"
   ]
  },
  {
   "cell_type": "markdown",
   "metadata": {},
   "source": [
    "**Ejercicio 5.** ¿Cuántas  6-tuplas  de  números  enteros  no  negativos  suman 25?"
   ]
  },
  {
   "cell_type": "code",
   "execution_count": 6,
   "metadata": {},
   "outputs": [
    {
     "name": "stdout",
     "output_type": "stream",
     "text": [
      "sol5 = 142506\n",
      "Hay 142506 6-tuplas de números enteros no negativos suman 25.\n"
     ]
    }
   ],
   "source": [
    "#Es una proposición que parte de la idea de que \"una k-combinación con repetición\n",
    "#permitida de n elementos puede considerarse como una n-tupla(x1,...,xn) tal \n",
    "#que x1+...+xn=k\".\n",
    "n=6\n",
    "k=25\n",
    "\n",
    "sol5=binomial(n+k-1,k)\n",
    "print(\"sol5 =\",sol5)\n",
    "print(\"Hay\",sol5,\"6-tuplas de números enteros no negativos suman 25.\")"
   ]
  },
  {
   "cell_type": "markdown",
   "metadata": {},
   "source": [
    "**Ejercicio 6.** Disponemos de 10 bolas rojas, 7 bolas verdes y 8 bolas amarillas. ¿De cuántas \"maneras podemos repartirlas entre 5 personas?"
   ]
  },
  {
   "cell_type": "code",
   "execution_count": 7,
   "metadata": {},
   "outputs": [
    {
     "name": "stdout",
     "output_type": "stream",
     "text": [
      "sol6 = 163513350\n",
      "Podemos repartir las 10 bolas rojas, las 7 bolas verdes y las 8 bolas amarillas entre 5 personas de 163513350 formas diferentes.\n"
     ]
    }
   ],
   "source": [
    "R=10                #Nº de bolas rojas a repartir.\n",
    "V=7                 #Nº de bolas verdes a repartir.\n",
    "A=8                 #Nº de bolas azules a repartir.\n",
    "n=5                 #Nº de personas entre las que repartir todas las bolas.\n",
    "\n",
    "#En este caso no importa el orden, y sí que se permite la repetición. Para obtener la \n",
    "#solución deberemos calcular el producto entre las formas de repartir las 10R, las 7V\n",
    "#y las 8A entre 5 personas.\n",
    "sol6=binomial(R+n-1,R)*binomial(A+n-1,A)*binomial(V+n-1,V)\n",
    "print(\"sol6 =\",sol6)\n",
    "print(\"Podemos repartir las 10 bolas rojas, las 7 bolas verdes y las 8 bolas amarillas entre 5 personas de\",sol6,\"formas diferentes.\")\n"
   ]
  },
  {
   "cell_type": "markdown",
   "metadata": {},
   "source": [
    "**Ejercicio 7.** ¿De cuántas maneras podemos colocar en fila 28 bolas blancas y 12 bolas negras de manera que no haya dos negras consecutivas?"
   ]
  },
  {
   "cell_type": "code",
   "execution_count": 11,
   "metadata": {},
   "outputs": [
    {
     "name": "stdout",
     "output_type": "stream",
     "text": [
      "sol7= 51895935\n",
      "Existen 51895935 formas de colocar en fila 28 bolas blancas y 12 bolas negras de forma que no haya dos negras consecutivas.\n"
     ]
    }
   ],
   "source": [
    "#Existen dos casos posibles a tener en cuenta cuando analizamos este ejercicio: que la \n",
    "#última bola sea de color negro o que sea de color blanco. Dado que el enunciado indica \n",
    "#que no puede haber dos bolas negras consecutivas, vamos a unir cada bola de color negro\n",
    "#a una de color blanco, de forma que no haya nunca dos bolas de color negro consecutivas.\n",
    "\n",
    "#Si la última bola es de color blanco:\n",
    "#Se obtiene que 12bolas negras+12bolas blancas=24bolas. Por tanto, tenemos que determinar \n",
    "#el orden en el que introducir las 12 y las 40-24=16 bolas restantes. La manera de hacer \n",
    "#esto es mediante una combinación sin repetición debido a que no importa el orden ni se \n",
    "#permite repetición.\n",
    "n1 = 28\n",
    "k1 = 16\n",
    "B = binomial(n1,k1)\n",
    "\n",
    "#Si la última bola es de color negro:\n",
    "#Al cumplirse esta condición, la penúltima bola será blanca, por lo que nos quedan 12-1=11 \n",
    "#bolas negras para colocar. De esta forma tenemos que 11 negras + 11 blancas = 22 bolas, y \n",
    "#si le sumamos la última bola tenemos 23 bolas en el conjunto. Por tanto, debemos determinar\n",
    "#el orden en el que introducir las 12 y las 40-23=17 bolas restantes. En este caso pasa lo \n",
    "#mismo que en el anterior: se trata de una combinación sin repetición porque no importa el \n",
    "#orden ni se permite repetición.\n",
    "n2 = 28\n",
    "k2 = 17\n",
    "N = binomial(n2,k2)\n",
    "\n",
    "#Para obtener la solución debemos sumar los resultados obtenidos.\n",
    "sol7 = B + N\n",
    "print(\"sol7=\",sol7)\n",
    "print(\"Existen\", sol7, \"formas de colocar en fila 28 bolas blancas y 12 bolas negras de forma que no haya dos negras consecutivas.\")"
   ]
  },
  {
   "cell_type": "markdown",
   "metadata": {},
   "source": [
    "**Ejercicio 8.** ¿Cuántos números entre 0 y 999999 contienen al menos un 1, un 2 y un 3 entre sus cifras?"
   ]
  },
  {
   "cell_type": "code",
   "execution_count": 12,
   "metadata": {},
   "outputs": [
    {
     "name": "stdout",
     "output_type": "stream",
     "text": [
      "A = 531441\n",
      "AB = 262144\n",
      "ABC = 117649\n",
      "unión = 925540\n",
      "sol8 = 74460\n",
      "Existen 74460 números entre 0 y 999999 que contienen al menos un 1, un 2 o un 3 entre sus cifras.\n"
     ]
    }
   ],
   "source": [
    "#Se trata de un caso en el que se permite la repetición y sí que importa el orden.\n",
    "\n",
    "#Al tratarse de una intersección calculamos su complementario, que es la unión:\n",
    "#   Sea A = números que NO contengan un 1\n",
    "#   Sea B = números que NO contengan un 2\n",
    "#   Sea C = números que NO contengan un 3\n",
    "#El complementario de |AUBUC| está formado por números que no contienen 1 o 2 o 3.\n",
    "#               |AUBUC|=|A|+|B|+|C|-|A∩B|-|A∩C|-|B∩C|+|A∩B∩C|\n",
    "\n",
    "\n",
    "# |A|=|B|=|C|:\n",
    "#   No contienen el 1, el 2 o el 3. Tenemos 9 cifras posibles a colocar entre 6 huecos.\n",
    "A = 9^6            #PR(9,6)=9^6\n",
    "print(\"A =\",A)\n",
    "\n",
    "#|A∩B|=|A∩C|=|B∩C|:\n",
    "#   No contienen ni el 1 ni el 2, el 1 y el 3, o el 2 y el 3. Tenemos 8 cifras a colocar \n",
    "#   en 6 huecos.\n",
    "AB = 8^6            #PR(8,6)=8^6\n",
    "print(\"AB =\",AB)\n",
    "\n",
    "#|A∩B∩C|:\n",
    "#   No contienen ni el 1 ni el 2 ni el 3. Tenemos 8 cifras a colocar en 6 huecos.\n",
    "ABC = 7^6            #PR(7,6)=7^6\n",
    "print(\"ABC =\",ABC)\n",
    "\n",
    "\n",
    "#Para calcular el complementario de la intersección debemos realizar la operación que he \n",
    "#indicado anteriormente: |AUBUC|=|A|+|B|+|C|-|A∩B|-|A∩C|-|B∩C|+|A∩B∩C|. Como |A|=|B|=|C|, \n",
    "#sumaremos 3·A, y como |A∩B|=|A∩C|=|B∩C| restaremos 3·AB. Por tanto, el resultado será el\n",
    "#siguiente:\n",
    "union = 3*(A) - 3*(AB) + (ABC)\n",
    "print(\"unión =\",union)\n",
    "\n",
    "\n",
    "#Por último calcularemos el resultado final, la intersección. Para ello bastará con restarle\n",
    "#al total de números aquellos que no cumplen las condiciones que nos impone el resultado:\n",
    "sol8 = 1000000 - union\n",
    "print(\"sol8 =\",sol8)\n",
    "print(\"Existen\",sol8,\"números entre 0 y 999999 que contienen al menos un 1, un 2 o un 3 entre sus cifras.\")"
   ]
  },
  {
   "cell_type": "markdown",
   "metadata": {},
   "source": [
    "**Ejercicio 9.** ¿Cuántas palabras pueden formarse con las letras de CUARTEL que contengan AR(en ese orden) o LE o TU?"
   ]
  },
  {
   "cell_type": "code",
   "execution_count": 13,
   "metadata": {},
   "outputs": [
    {
     "name": "stdout",
     "output_type": "stream",
     "text": [
      "A = 720\n",
      "AB = 120\n",
      "ABC = 24\n",
      "sol9 = 1824\n",
      "Podemos formar 1824 palabras con las letras de CUARTEL que contengan AR, LE o TU.\n"
     ]
    }
   ],
   "source": [
    "#Se trata de una intersección. Calculamos la unión, que es el complementario:\n",
    "#   Sea A = palabras que contengan AR\n",
    "#   Sea B = palabras que contengan LE\n",
    "#   Sea C = palabras que contengan TU\n",
    "#Nos piden |AUBUC|=|A|+|B|+|C|-|A∩B|-|A∩C|-|B∩C|+|A∩B∩C|\n",
    "\n",
    "#|A|=|B|=|C|:\n",
    "#   Son las palabras que contienen AR, LE o TU, que se forman con 6 letras.\n",
    "A = factorial(6)\n",
    "print(\"A =\",A)\n",
    "\n",
    "#|A∩B|=|A∩C|=|B∩C|:\n",
    "#   Son las palabras que contienen ARyLE, ARyTU o LEyTU, que están formadas por 5letras.\n",
    "AB = factorial(5)\n",
    "print(\"AB =\",AB)\n",
    "\n",
    "#|A∩B∩C|:\n",
    "#   Son las palabras que contienen AR, LE y TU. Están formadas por 4 letras\n",
    "ABC = factorial(4)\n",
    "print(\"ABC =\",ABC)\n",
    "\n",
    "#La solución la calculamos siguiendo la fórmula ya mencionada: \n",
    "#|AUBUC|=|A|+|B|+|C|-|A∩B|-|A∩C|-|B∩C|+|A∩B∩C|. Como |A|=|B|=|C|, sumaremos 3·A, y como \n",
    "#|A∩B|=|A∩C|=|B∩C| restaremos 3·AB. Por tanto, el resultado será el siguiente:\n",
    "sol9 = 3*A - 3*AB + ABC\n",
    "print(\"sol9 =\",sol9)\n",
    "print(\"Podemos formar\",sol9,\"palabras con las letras de CUARTEL que contengan AR, LE o TU.\")"
   ]
  },
  {
   "cell_type": "markdown",
   "metadata": {},
   "source": [
    "**Ejercicio 10.** ¿Cuántas formas diferentes hay de disponer  en fila 7 bolas blancas, 5 rojas y 3 verdes?"
   ]
  },
  {
   "cell_type": "code",
   "execution_count": 14,
   "metadata": {},
   "outputs": [
    {
     "name": "stdout",
     "output_type": "stream",
     "text": [
      "sol10 =  360360\n",
      "Hay 360360 formas de disponer en fila 7 bolas blancas, 5 bolas rojas y 3 bolas verdes.\n"
     ]
    }
   ],
   "source": [
    "B = 7                #Número de bolas blancas.\n",
    "R = 5                #Número de bolas rojas.\n",
    "V = 3                #Número de bolas verdes.\n",
    "n = B + R + V        #Número de huecos entre los que disponer todas las bolas.\n",
    "\n",
    "#Para obtener la solución de este ejercicio, tenemos que tener en cuenta que no importa\n",
    "#el orden y que no se permite repetición. Para resolver esto, obtenemos las formas de \n",
    "#disponer las bolas blancas en el total de los huecos, para más tarde calcular el número \n",
    "#de formas diferentes de disponer las 5 bolas rojas en los huecos que no han sido ocupados \n",
    "#por las blancas. Los tres huecos que queden al final serán los disponibles para las bolas \n",
    "#de color verde.\n",
    "sol10 = binomial(n,B) * binomial (n-B,R)\n",
    "print(\"sol10 = \",sol10)\n",
    "print(\"Hay\",sol10,\"formas de disponer en fila 7 bolas blancas, 5 bolas rojas y 3 bolas verdes.\")"
   ]
  }
 ],
 "metadata": {
  "kernelspec": {
   "display_name": "SageMath 9.1",
   "language": "sage",
   "name": "sagemath"
  },
  "language_info": {
   "codemirror_mode": {
    "name": "ipython",
    "version": 3
   },
   "file_extension": ".py",
   "mimetype": "text/x-python",
   "name": "python",
   "nbconvert_exporter": "python",
   "pygments_lexer": "ipython3",
   "version": "3.7.3"
  }
 },
 "nbformat": 4,
 "nbformat_minor": 2
}
