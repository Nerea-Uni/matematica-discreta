{
 "cells": [
  {
   "cell_type": "markdown",
   "metadata": {},
   "source": [
    "##### **Ejercicio 1** Hallar la tabla de verdad de (p|q)&~r->q|r."
   ]
  },
  {
   "cell_type": "code",
   "execution_count": 2,
   "metadata": {},
   "outputs": [
    {
     "data": {
      "text/plain": [
       "p      q      r      value\n",
       "False  False  False  True   \n",
       "False  False  True   True   \n",
       "False  True   False  True   \n",
       "False  True   True   True   \n",
       "True   False  False  False  \n",
       "True   False  True   True   \n",
       "True   True   False  True   \n",
       "True   True   True   True   \n"
      ]
     },
     "execution_count": 2,
     "metadata": {},
     "output_type": "execute_result"
    }
   ],
   "source": [
    "f = propcalc.formula(\"(p|q)&~r->q|r\")\n",
    "f.truthtable()"
   ]
  },
  {
   "cell_type": "markdown",
   "metadata": {},
   "source": [
    "---"
   ]
  },
  {
   "cell_type": "markdown",
   "metadata": {},
   "source": [
    "##### **Ejercicio 2.** Hallar la tabla de verdad de (p&q)|(r&s)->p|~s."
   ]
  },
  {
   "cell_type": "code",
   "execution_count": 3,
   "metadata": {},
   "outputs": [
    {
     "data": {
      "text/plain": [
       "p      q      r      s      value\n",
       "False  False  False  False  True   \n",
       "False  False  False  True   True   \n",
       "False  False  True   False  True   \n",
       "False  False  True   True   False  \n",
       "False  True   False  False  True   \n",
       "False  True   False  True   True   \n",
       "False  True   True   False  True   \n",
       "False  True   True   True   False  \n",
       "True   False  False  False  True   \n",
       "True   False  False  True   True   \n",
       "True   False  True   False  True   \n",
       "True   False  True   True   True   \n",
       "True   True   False  False  True   \n",
       "True   True   False  True   True   \n",
       "True   True   True   False  True   \n",
       "True   True   True   True   True   \n"
      ]
     },
     "execution_count": 3,
     "metadata": {},
     "output_type": "execute_result"
    }
   ],
   "source": [
    "g = propcalc.formula(\"(p&q)|(r&s)->p|~s\")\n",
    "g.truthtable()"
   ]
  },
  {
   "cell_type": "markdown",
   "metadata": {},
   "source": [
    "---"
   ]
  },
  {
   "cell_type": "markdown",
   "metadata": {},
   "source": [
    "##### **Ejercicio 3.**  Estudiar cuáles de las siguientes formas enunciativas son equivalentes:\n",
    "    (a) p->(q->r)\n",
    "    (b) ~p|~q|r\n",
    "    (c) ~((p->r)&q)\n",
    "    (d) (p|~q)&(~r|~q)"
   ]
  },
  {
   "cell_type": "code",
   "execution_count": 5,
   "metadata": {},
   "outputs": [],
   "source": [
    "a = propcalc.formula(\"p->(q->r)\")\n",
    "b = propcalc.formula(\"~p|~q|r\")\n",
    "c = propcalc.formula(\"~((p->r)&q)\")\n",
    "d = propcalc.formula(\"(p|~q)&(~r|~q)\")"
   ]
  },
  {
   "cell_type": "code",
   "execution_count": 12,
   "metadata": {},
   "outputs": [
    {
     "name": "stdout",
     "output_type": "stream",
     "text": [
      "a==b True\n",
      "a==c False\n",
      "a==d False\n",
      "b==c False\n",
      "b==d False\n",
      "c==d True\n"
     ]
    }
   ],
   "source": [
    "print(\"a==b\",a==b)\n",
    "\n",
    "print(\"a==c\",a==c)\n",
    "\n",
    "print(\"a==d\",a==d)\n",
    "\n",
    "print(\"b==c\",b==c)\n",
    "\n",
    "print(\"b==d\",b==d)\n",
    "\n",
    "print(\"c==d\",c==d)"
   ]
  },
  {
   "cell_type": "markdown",
   "metadata": {},
   "source": [
    "*Solución:* \n",
    "    a y b son formas enunciativas equivalentes, igual que c y d."
   ]
  },
  {
   "cell_type": "markdown",
   "metadata": {},
   "source": [
    "---"
   ]
  },
  {
   "cell_type": "markdown",
   "metadata": {},
   "source": [
    "##### **Ejercicio 4.** Hallar una forma enunciativa equivalente a ~((~p&~q->r)->~s) que sólo use los conectores | y &, y comprobar con sage que lo es. Lo mismo con (p->~q)->(~r|~s->t)."
   ]
  },
  {
   "cell_type": "code",
   "execution_count": 22,
   "metadata": {},
   "outputs": [
    {
     "name": "stdout",
     "output_type": "stream",
     "text": [
      "p1==p2 True\n",
      "q1==q2 True\n"
     ]
    }
   ],
   "source": [
    "p1 = propcalc.formula(\"~((~p&~q->r)->~s)\")\n",
    "q1 = propcalc.formula(\"(p->~q)->(~r|~s->t)\")\n",
    "\n",
    "p2 = propcalc.formula(\"((p|q)|r)&s\")\n",
    "q2 = propcalc.formula(\"(p&q)|((r&s)|t)\")\n",
    "\n",
    "print(\"p1==p2\",p1==p2)\n",
    "print(\"q1==q2\",q1==q2)"
   ]
  },
  {
   "cell_type": "markdown",
   "metadata": {},
   "source": [
    "---"
   ]
  },
  {
   "cell_type": "markdown",
   "metadata": {},
   "source": [
    "##### **Ejercicio 5.** Resuelve de forma lógica el siguiente problema:\n",
    "     Se sabe lo siguiente:\n",
    "    (i) Si hoy es jueves entonces mi coche es rojo y mi jersey no es azul.\n",
    "    (ii) Si mi jersey no es azul entonces o bien es verde u hoy es jueves.\n",
    "    (iii) O mi coche no es rojo o mi jersey es azul.\n",
    "    (iv) Si mi jersey es verde entonces hoy es jueves o mi coche es rojo.\n",
    "    ¿De qué color es mi jersey?"
   ]
  },
  {
   "cell_type": "code",
   "execution_count": null,
   "metadata": {},
   "outputs": [],
   "source": [
    "j = \"hoy es jueves\"\n",
    "r = \"mi coche es rojo\"\n",
    "a = \"mi jersey es azul\"\n",
    "v = \"mi jersey es verde\""
   ]
  },
  {
   "cell_type": "code",
   "execution_count": 24,
   "metadata": {},
   "outputs": [],
   "source": [
    "P1 = propcalc.formula(\"j->(r&~a)\")\n",
    "P2 = propcalc.formula(\"~a->(v|j)\")\n",
    "P3 = propcalc.formula(\"~r|a\")\n",
    "P4 = propcalc.formula(\"v->(j|r)\")\n",
    "\n",
    "C1 = propcalc.formula(\"a\")\n",
    "C2 = propcalc.formula(\"v\")"
   ]
  },
  {
   "cell_type": "code",
   "execution_count": 25,
   "metadata": {},
   "outputs": [
    {
     "data": {
      "text/plain": [
       "True"
      ]
     },
     "execution_count": 25,
     "metadata": {},
     "output_type": "execute_result"
    }
   ],
   "source": [
    "(P1&P2&P3&P4).implies(C1)"
   ]
  },
  {
   "cell_type": "markdown",
   "metadata": {},
   "source": [
    "---"
   ]
  },
  {
   "cell_type": "markdown",
   "metadata": {},
   "source": [
    "##### **Ejercicio 6.** Resuelve de forma lógica el siguiente problema:\n",
    "    Se sabe lo siguiente:\n",
    "    (i) Si estamos en mayo entonces me llamo Luis y soy alto.\n",
    "    (ii) Si me llamo Luis entonces o no estamos en octubre o soy japonés.\n",
    "    (iii) Si estamos en mayo y soy alto, entonces no me llamo Pedro.\n",
    "    (iv) Si me llamo Luis y soy alto y no soy japonés, entonces estamos en octubre.\n",
    "    (v) Si soy japonés entonces me llamo Pedro.\n",
    "    ¿En qué mes seguro que NO estamos? ¿Necesariamente nos encontramos en el otro mes mencionado en los enunciados?\n"
   ]
  },
  {
   "cell_type": "code",
   "execution_count": null,
   "metadata": {},
   "outputs": [],
   "source": [
    "m = \"estamos en mayo\"\n",
    "l = \"me llamo Luis\"\n",
    "a = \"soy alto\"\n",
    "o = \"estamos en octubre\"\n",
    "j = \"soy japonés\"\n",
    "p = \"me llamo Pedro\""
   ]
  },
  {
   "cell_type": "code",
   "execution_count": 19,
   "metadata": {},
   "outputs": [],
   "source": [
    "P1 = propcalc.formula(\"m->(l&a)\")\n",
    "P2 = propcalc.formula(\"l->(~o|j)\")\n",
    "P3 = propcalc.formula(\"(m&a)->~p\")\n",
    "P4 = propcalc.formula(\"(l&a&~j)->o\")\n",
    "P5 = propcalc.formula(\"j->p\")\n",
    "\n",
    "C1 = propcalc.formula(\"m\")\n",
    "C2 = propcalc.formula(\"o\")"
   ]
  },
  {
   "cell_type": "code",
   "execution_count": 20,
   "metadata": {
    "scrolled": true
   },
   "outputs": [
    {
     "data": {
      "text/plain": [
       "False"
      ]
     },
     "execution_count": 20,
     "metadata": {},
     "output_type": "execute_result"
    }
   ],
   "source": [
    "(P1&P2&P3&P4&P5).implies(C1)"
   ]
  },
  {
   "cell_type": "code",
   "execution_count": 21,
   "metadata": {},
   "outputs": [
    {
     "data": {
      "text/plain": [
       "True"
      ]
     },
     "execution_count": 21,
     "metadata": {},
     "output_type": "execute_result"
    }
   ],
   "source": [
    "(P1&P2&P3&P4&P5).implies(~C1)"
   ]
  },
  {
   "cell_type": "code",
   "execution_count": 22,
   "metadata": {
    "scrolled": true
   },
   "outputs": [
    {
     "data": {
      "text/plain": [
       "False"
      ]
     },
     "execution_count": 22,
     "metadata": {},
     "output_type": "execute_result"
    }
   ],
   "source": [
    "(P1&P2&P3&P4&P5).implies(C2)"
   ]
  },
  {
   "cell_type": "code",
   "execution_count": 23,
   "metadata": {},
   "outputs": [
    {
     "data": {
      "text/plain": [
       "False"
      ]
     },
     "execution_count": 23,
     "metadata": {},
     "output_type": "execute_result"
    }
   ],
   "source": [
    "(P1&P2&P3&P4&P5).implies(~C2)"
   ]
  },
  {
   "cell_type": "markdown",
   "metadata": {},
   "source": [
    "---"
   ]
  },
  {
   "cell_type": "markdown",
   "metadata": {},
   "source": [
    "##### **Ejercicio 7.**  Probar que la forma enunciativa p&(q->~r)->(r|s|t->p|q) es una tautología y dar una razón sencilla por la que lo es."
   ]
  },
  {
   "cell_type": "code",
   "execution_count": 5,
   "metadata": {},
   "outputs": [
    {
     "data": {
      "text/plain": [
       "True"
      ]
     },
     "execution_count": 5,
     "metadata": {},
     "output_type": "execute_result"
    }
   ],
   "source": [
    "f = propcalc.formula(\"p&(q->~r)->(r|s|t->p|q)\")\n",
    "f.is_tautology()"
   ]
  },
  {
   "cell_type": "markdown",
   "metadata": {},
   "source": [
    "---"
   ]
  },
  {
   "cell_type": "markdown",
   "metadata": {},
   "source": [
    "##### **Ejercicio 8.** Usando las funciones anteriores ver si es posible que en el ejercicio 6 sea japonés y me llame Pedro al mismo tiempo. O que simultáneamente me llame Luis y sea alto.\n"
   ]
  },
  {
   "cell_type": "code",
   "execution_count": null,
   "metadata": {},
   "outputs": [],
   "source": []
  },
  {
   "cell_type": "markdown",
   "metadata": {},
   "source": [
    "---"
   ]
  },
  {
   "cell_type": "markdown",
   "metadata": {},
   "source": [
    "##### **Ejercicio 9.** Consideremos la forma argumentativa de premisas:\n",
    "     (i) p->(q->r)\n",
    "     (ii) r->~q\n",
    "     (iii)~p->r|s\n",
    "     (iv) s->p|~q\n",
    "    Hallar la conclusión (la más sencilla posible) mediante las reglas de inferencia y comprobar con sage que es correcta."
   ]
  },
  {
   "cell_type": "code",
   "execution_count": 24,
   "metadata": {},
   "outputs": [],
   "source": [
    "P1 = propcalc.formula(\"p->(q->r)\")\n",
    "P2 = propcalc.formula(\"r->~q\")\n",
    "P3 = propcalc.formula(\"~p->r|s\")\n",
    "P4 = propcalc.formula(\"s->p|~q\")\n",
    "C = propcalc.formula(\"~q\")"
   ]
  },
  {
   "cell_type": "code",
   "execution_count": 25,
   "metadata": {},
   "outputs": [
    {
     "data": {
      "text/plain": [
       "True"
      ]
     },
     "execution_count": 25,
     "metadata": {},
     "output_type": "execute_result"
    }
   ],
   "source": [
    "(P1&P2&P3&P4).implies(C)"
   ]
  },
  {
   "cell_type": "code",
   "execution_count": 26,
   "metadata": {},
   "outputs": [
    {
     "data": {
      "text/plain": [
       "p      q      r      s      value\n",
       "False  False  False  False  False  \n",
       "False  False  False  True   True   \n",
       "False  False  True   False  True   \n",
       "False  False  True   True   True   \n",
       "False  True   False  False  False  \n",
       "False  True   False  True   False  \n",
       "False  True   True   False  False  \n",
       "False  True   True   True   False  \n",
       "True   False  False  False  True   \n",
       "True   False  False  True   True   \n",
       "True   False  True   False  True   \n",
       "True   False  True   True   True   \n",
       "True   True   False  False  False  \n",
       "True   True   False  True   False  \n",
       "True   True   True   False  False  \n",
       "True   True   True   True   False  \n"
      ]
     },
     "execution_count": 26,
     "metadata": {},
     "output_type": "execute_result"
    }
   ],
   "source": [
    "(P1&P2&P3&P4).truthtable()"
   ]
  },
  {
   "cell_type": "markdown",
   "metadata": {},
   "source": [
    "---"
   ]
  },
  {
   "cell_type": "markdown",
   "metadata": {},
   "source": [
    "##### **Ejercicio 10.** Resuelve de forma lógica el siguiente problema:\n",
    "    Se sabe lo siguiente:\n",
    "    (i) Si mi vecina no es argentina u hoy no es viernes, entonces soy joven o me llamo Luis.\n",
    "    (ii) Si no soy joven, entonces hoy es viernes o mi vecina es argentina.\n",
    "    (iii) Si hoy es viernes, entonces me llamo Luis. \n",
    "    (iv) Si mi vecina es argentina, entonces soy joven u hoy es viernes.\n",
    "    ¿Hay alguna premisa que sea consecuencia de las demás? ¿Cuál es la conclusión(la más sencilla posible)? "
   ]
  },
  {
   "cell_type": "code",
   "execution_count": null,
   "metadata": {},
   "outputs": [],
   "source": [
    "a = \"mi vecina es argentina\"\n",
    "v = \"hoy es viernes\"\n",
    "j = \"soy joven\"\n",
    "l = \"me llamo Luis\""
   ]
  },
  {
   "cell_type": "code",
   "execution_count": 27,
   "metadata": {},
   "outputs": [],
   "source": [
    "Q1 = propcalc.formula(\"(~a|~v)->(j|l)\")\n",
    "Q2 = propcalc.formula(\"~j->(v|a)\")\n",
    "Q3 = propcalc.formula(\"v->l\")\n",
    "Q4 = propcalc.formula(\"a->(j|v)\")\n",
    "C = propcalc.formula(\"j|v\")"
   ]
  },
  {
   "cell_type": "code",
   "execution_count": 28,
   "metadata": {
    "scrolled": true
   },
   "outputs": [
    {
     "data": {
      "text/plain": [
       "True"
      ]
     },
     "execution_count": 28,
     "metadata": {},
     "output_type": "execute_result"
    }
   ],
   "source": [
    "(Q1&Q2&Q3&Q4).implies(C)"
   ]
  },
  {
   "cell_type": "code",
   "execution_count": 29,
   "metadata": {},
   "outputs": [
    {
     "data": {
      "text/plain": [
       "True"
      ]
     },
     "execution_count": 29,
     "metadata": {},
     "output_type": "execute_result"
    }
   ],
   "source": [
    "(Q2&Q3&Q4).implies(Q1)"
   ]
  },
  {
   "cell_type": "code",
   "execution_count": 30,
   "metadata": {},
   "outputs": [
    {
     "data": {
      "text/plain": [
       "False"
      ]
     },
     "execution_count": 30,
     "metadata": {},
     "output_type": "execute_result"
    }
   ],
   "source": [
    "(Q1&Q3&Q4).implies(Q2)"
   ]
  },
  {
   "cell_type": "code",
   "execution_count": 31,
   "metadata": {},
   "outputs": [
    {
     "data": {
      "text/plain": [
       "False"
      ]
     },
     "execution_count": 31,
     "metadata": {},
     "output_type": "execute_result"
    }
   ],
   "source": [
    "(Q1&Q2&Q4).implies(Q3)"
   ]
  },
  {
   "cell_type": "code",
   "execution_count": 32,
   "metadata": {},
   "outputs": [
    {
     "data": {
      "text/plain": [
       "False"
      ]
     },
     "execution_count": 32,
     "metadata": {},
     "output_type": "execute_result"
    }
   ],
   "source": [
    "(Q1&Q2&Q3).implies(Q4)"
   ]
  },
  {
   "cell_type": "markdown",
   "metadata": {},
   "source": [
    "---"
   ]
  },
  {
   "cell_type": "markdown",
   "metadata": {},
   "source": [
    "##### **Ejercicio 11.** Hallar la conclusión (la más sencilla posible) del siguiente argumento:\n",
    "    PREMISAS:\n",
    "    1. Si te llamas Pedro, entonces yo me llamo Quique o tu hermana se llama Ramona.\n",
    "    2. Si mi tío no se llama Santiago, entonces te llamas Pedro o tu hermana se llama Ramona.\n",
    "    3. Si te llamas Pedro y yo me llamo Quique, entonces mi tío se llama Santiago.\n",
    "    4. Si tu hermana se llama Ramona, entonces yo me llamo Quique o mi tío se llama Santiago.\n",
    "    5. O te llamas Pedro o no me llamo Quique o tu hermana no se llama Ramona."
   ]
  },
  {
   "cell_type": "code",
   "execution_count": 33,
   "metadata": {},
   "outputs": [],
   "source": [
    "p = \"te llamas Pedro\"\n",
    "q = \"yo me llamo Quique\"\n",
    "r = \"tu hermana se llama Ramona\"\n",
    "s = \"mi tío se llama Santiago\""
   ]
  },
  {
   "cell_type": "code",
   "execution_count": 38,
   "metadata": {},
   "outputs": [],
   "source": [
    "H1 = propcalc.formula(\"p->(q|r)\")\n",
    "H2 = propcalc.formula(\"~s->(p|r)\")\n",
    "H3 = propcalc.formula(\"(p&q)->s\")\n",
    "H4 = propcalc.formula(\"r->(q|s)\")\n",
    "H5 = propcalc.formula(\"p|~q|~r\")\n",
    "C = propcalc.formula(\"s\")"
   ]
  },
  {
   "cell_type": "code",
   "execution_count": 39,
   "metadata": {},
   "outputs": [
    {
     "data": {
      "text/plain": [
       "True"
      ]
     },
     "execution_count": 39,
     "metadata": {},
     "output_type": "execute_result"
    }
   ],
   "source": [
    "(H1&H2&H3&H4&H5).implies(C)"
   ]
  },
  {
   "cell_type": "markdown",
   "metadata": {},
   "source": [
    "---"
   ]
  },
  {
   "cell_type": "markdown",
   "metadata": {},
   "source": [
    "##### **Ejercicio 12.** Consideremos la forma argumentativa de premisas:\n",
    "    (1) p->q|r\n",
    "    (2) q->(p->s)\n",
    "    (3) s->~p|r\n",
    "    (4) ~p->r\n",
    "    Hallar la conclusión (la más sencilla posible) usando las reglas de inferencia y comprobar luego con sage que es correcta."
   ]
  },
  {
   "cell_type": "code",
   "execution_count": 41,
   "metadata": {},
   "outputs": [],
   "source": [
    "J1 = propcalc.formula(\"p->q|r\")\n",
    "J2 = propcalc.formula(\"q->(p->s)\")\n",
    "J3 = propcalc.formula(\"s->~p|r\")\n",
    "J4 = propcalc.formula(\"~p->r\")\n",
    "\n",
    "C = propcalc.formula(\"r\")"
   ]
  },
  {
   "cell_type": "code",
   "execution_count": 42,
   "metadata": {},
   "outputs": [
    {
     "data": {
      "text/plain": [
       "True"
      ]
     },
     "execution_count": 42,
     "metadata": {},
     "output_type": "execute_result"
    }
   ],
   "source": [
    "(J1&J2&J3&J4).implies(C)"
   ]
  },
  {
   "cell_type": "markdown",
   "metadata": {},
   "source": [
    "---"
   ]
  },
  {
   "cell_type": "markdown",
   "metadata": {},
   "source": [
    "##### **Ejercicio 13.** Estudiar si la siguiente forma argumentativa es válida o inválida:\n",
    "    PREMISAS:\n",
    "        p|q->r\n",
    "        s->q|~r\n",
    "        r->s|~t\n",
    "        t->p|r\n",
    "    CONCLUSIÓN:\n",
    "        t->q&r&s"
   ]
  },
  {
   "cell_type": "code",
   "execution_count": 44,
   "metadata": {},
   "outputs": [],
   "source": [
    "U1 = propcalc.formula(\"p|q->r\")\n",
    "U2 = propcalc.formula(\"s->q|~r\")\n",
    "U3 = propcalc.formula(\"r->s|~t\")\n",
    "U4 = propcalc.formula(\"t->p|r\")\n",
    "C = propcalc.formula(\"t->q&r&s\")"
   ]
  },
  {
   "cell_type": "code",
   "execution_count": 45,
   "metadata": {},
   "outputs": [
    {
     "data": {
      "text/plain": [
       "True"
      ]
     },
     "execution_count": 45,
     "metadata": {},
     "output_type": "execute_result"
    }
   ],
   "source": [
    "(U1&U2&U3&U4).implies(C) #Es válida."
   ]
  },
  {
   "cell_type": "markdown",
   "metadata": {},
   "source": [
    "---"
   ]
  },
  {
   "cell_type": "markdown",
   "metadata": {},
   "source": [
    "##### **Ejercicio 14.** Hallar la forma normal conjuntiva de (p->q)|r->~q|s. Lo mismo para p&(q->r)->(r|s->~p)"
   ]
  },
  {
   "cell_type": "code",
   "execution_count": 48,
   "metadata": {},
   "outputs": [
    {
     "data": {
      "text/plain": [
       "True"
      ]
     },
     "execution_count": 48,
     "metadata": {},
     "output_type": "execute_result"
    }
   ],
   "source": [
    "h1 = propcalc.formula(\"(p->q)|r->~q|s\")\n",
    "h2 = propcalc.formula(\"((p&~q)&~r)|(~q|s)\")\n",
    "h1==h2"
   ]
  },
  {
   "cell_type": "code",
   "execution_count": 49,
   "metadata": {},
   "outputs": [
    {
     "data": {
      "text/plain": [
       "True"
      ]
     },
     "execution_count": 49,
     "metadata": {},
     "output_type": "execute_result"
    }
   ],
   "source": [
    "k1 = propcalc.formula(\"p&(q->r)->(r|s->~p)\")\n",
    "k2 = propcalc.formula(\"(~p|(q&~r))|((~r&~s)|~p)\")\n",
    "k1 == k2"
   ]
  },
  {
   "cell_type": "code",
   "execution_count": null,
   "metadata": {},
   "outputs": [],
   "source": [
    "h2 es FNC de h1 y k2 es FNC de k1."
   ]
  }
 ],
 "metadata": {
  "kernelspec": {
   "display_name": "SageMath 9.1",
   "language": "sage",
   "name": "sagemath"
  },
  "language_info": {
   "codemirror_mode": {
    "name": "ipython",
    "version": 3
   },
   "file_extension": ".py",
   "mimetype": "text/x-python",
   "name": "python",
   "nbconvert_exporter": "python",
   "pygments_lexer": "ipython3",
   "version": "3.7.3"
  }
 },
 "nbformat": 4,
 "nbformat_minor": 2
}
